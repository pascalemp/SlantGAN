{
 "cells": [
  {
   "cell_type": "markdown",
   "metadata": {},
   "source": [
    "<h1>SlantGAN - A simple implementation of a basic GAN</h1>\n",
    "\n",
    "*Given a 2x2 matrix consisting of real values in the interval [0,1] we aim to be able to deduce\n",
    "a *'slanted person'* such that they have values **ONLY** in the leading diagnonal of the matrix (from the upper left side.)*"
   ]
  },
  {
   "cell_type": "code",
   "execution_count": 48,
   "metadata": {},
   "outputs": [],
   "source": [
    "import numpy as np\n",
    "from numpy import random \n",
    "from matplotlib import pyplot as plt\n",
    "%matplotlib inline"
   ]
  },
  {
   "cell_type": "code",
   "execution_count": 49,
   "metadata": {},
   "outputs": [],
   "source": [
    "# Drawing function\n",
    "def view_samples(samples, m, n):\n",
    "    fig, axes = plt.subplots(figsize=(10, 10), nrows=m, ncols=n, sharey=True, sharex=True)\n",
    "    for ax, img in zip(axes.flatten(), samples):\n",
    "        ax.xaxis.set_visible(False)\n",
    "        ax.yaxis.set_visible(False)\n",
    "        im = ax.imshow(1-img.reshape((2,2)), cmap='Greys_r')  \n",
    "    return fig, axes"
   ]
  },
  {
   "cell_type": "markdown",
   "metadata": {},
   "source": [
    "<h2> Examples of 'Faces' </h2>\n",
    "\n",
    "*By 'slanted person' we are abstracting the idea of an image that has a distorted face in it, for example:*\n",
    "\n",
    "<img src=\"images/slant.png\" width=250 height=250 />\n",
    "\n",
    "*The above image can be represented as a 2x2 matrix, as displayed below:*"
   ]
  },
  {
   "cell_type": "code",
   "execution_count": 50,
   "metadata": {},
   "outputs": [
    {
     "data": {
      "image/png": "[encoded data removed]",
      "text/plain": [
       "<Figure size 720x720 with 4 Axes>"
      ]
     },
     "metadata": {
      "needs_background": "light"
     },
     "output_type": "display_data"
    }
   ],
   "source": [
    "# Examples of faces\n",
    "faces = [np.array([1,0,0,1]),\n",
    "         np.array([0.9,0.1,0.2,0.8]),\n",
    "         np.array([0.9,0.2,0.1,0.8]),\n",
    "         np.array([0.8,0.1,0.2,0.9]),\n",
    "         np.array([0.8,0.2,0.1,0.9])]\n",
    "    \n",
    "_ = view_samples(faces, 1, 4)"
   ]
  },
  {
   "cell_type": "markdown",
   "metadata": {},
   "source": [
    "<h2> Examples of Random Noise </h2>"
   ]
  },
  {
   "cell_type": "code",
   "execution_count": 51,
   "metadata": {},
   "outputs": [
    {
     "data": {
      "image/png": "[encoded data removed]",
      "text/plain": [
       "<Figure size 720x720 with 4 Axes>"
      ]
     },
     "metadata": {
      "needs_background": "light"
     },
     "output_type": "display_data"
    }
   ],
   "source": [
    "# Examples of noisy images\n",
    "noise = [np.random.randn(2,2) for i in range(20)]\n",
    "\n",
    "def generate_random_image():\n",
    "    return [np.random.random(), np.random.random(), np.random.random(), np.random.random()]\n",
    "\n",
    "_ = view_samples(noise, 1,4)"
   ]
  },
  {
   "cell_type": "code",
   "execution_count": 57,
   "metadata": {},
   "outputs": [],
   "source": [
    "# Sigmoid function\n",
    "def sigmoid(x):\n",
    "    return 1.0 / (1.0 + np.exp(-x))"
   ]
  },
  {
   "cell_type": "markdown",
   "metadata": {},
   "source": [
    "<h2> The Discriminator Network </h2>\n",
    "\n",
    "*The 'Discriminator' Network architecture and backpropagation derivation is displayed below:*\n",
    "\n",
    "<img src=\"images/discriminator.png\" width=1000 height=1200 />"
   ]
  },
  {
   "cell_type": "code",
   "execution_count": 59,
   "metadata": {},
   "outputs": [],
   "source": [
    "class Discriminator():\n",
    "    \n",
    "    def __init__(self):\n",
    "        # Initialise all weights randomly to begin with\n",
    "        self.weights = np.array([np.random.normal() for i in range(4)])\n",
    "        \n",
    "        # Initialise one random bias to begin with.\n",
    "        self.bias = np.random.normal()\n",
    "        \n",
    "    # Forward pass for a given image returns sigmoid(weights_matrix * image_matrix + bias_value) \n",
    "    def forward(self, image):\n",
    "        return sigmoid(np.dot(image, self.weights) + self.bias)\n",
    "    \n",
    "    # Derivatives for an 'image' i.e. a test image\n",
    "    def image_derivatives(self, image):\n",
    "        # Get the current prediction\n",
    "        prediction = self.forward(image)\n",
    "        # Get the weight and bias derivatives\n",
    "        deriv_weights = -image * (1 - prediction)\n",
    "        deriv_bias = -(1 - prediction)\n",
    "        return deriv_weights, deriv_bias\n",
    "    \n",
    "    # Derivatives for 'noise' i.e. an image generated by our Generator Net\n",
    "    def noise_derivatives(self, noise):\n",
    "        # Get the current prediction\n",
    "        prediction = self.forward(noise)\n",
    "        # Get the weight and bias derivatives\n",
    "        deriv_weights = noise * prediction\n",
    "        deriv_bias = prediction\n",
    "        return deriv_weights, deriv_bias\n",
    "    \n",
    "    # Update the weights for an 'image' \n",
    "    def image_update(self, x):\n",
    "        derivatives = self.image_derivatives(x)\n",
    "        self.weights -= learning_rate * derivatives[0]\n",
    "        self.bias -= learning_rate * derivatives[1]\n",
    "    \n",
    "    # Update the weights for 'noise' - note the different loss function to the \n",
    "    # image_update.\n",
    "    def noise_update(self, noise):\n",
    "        derivs = self.noise_derivatives(noise)\n",
    "        self.weights -= learning_rate * derivs[0]\n",
    "        self.bias -= learning_rate * derivs[1]"
   ]
  },
  {
   "cell_type": "markdown",
   "metadata": {},
   "source": [
    "<h2> The Generator Network </h2>\n",
    "\n",
    "*The 'Generator' Network architecture and backpropagation derivation is displayed below:*\n",
    "\n",
    "<img src=\"images/generator.png\" width=1000 height=1200 />"
   ]
  },
  {
   "cell_type": "code",
   "execution_count": 60,
   "metadata": {},
   "outputs": [],
   "source": [
    "class Generator():\n",
    "    \n",
    "    def __init__(self):\n",
    "                \n",
    "        # Initialise all weights and biases randomly to begin with\n",
    "        self.weights = np.array([np.random.normal() for i in range(4)])\n",
    "        self.biases = np.array([np.random.normal() for i in range(4)])\n",
    "        \n",
    "    def forward(self, z):\n",
    "        # Current output image, which is generated each time from\n",
    "        # the z value that is updated by the weights and the biases.\n",
    "        return sigmoid(z * self.weights + self.biases)    \n",
    "    \n",
    "    # To work out the derivatives through backpropagation for the \n",
    "    # generator network, we need the weights associated with\n",
    "    # the discriminator.\n",
    "    def derivatives(self, z, discriminator):\n",
    "        \n",
    "        d_weights = discriminator.weights\n",
    "        \n",
    "        x = self.forward(z)\n",
    "        y = discriminator.forward(x)\n",
    "        \n",
    "        # This 'factor' variable is just a nicer way of representing \n",
    "        # the formula in a re-useable part, as opposed to writing it\n",
    "        # out twice for the derivative weights and biases separately.\n",
    "        \n",
    "        factor = -(1-y) * d_weights * x *(1-x)\n",
    "        deriv_weights = factor * z\n",
    "        deriv_bias = factor\n",
    "        \n",
    "        return deriv_weights, deriv_bias\n",
    "    \n",
    "    # Update the Generator weights based on the current z-value and \n",
    "    # the discriminator weights.\n",
    "    def update(self, z, discriminator):\n",
    "        ders = self.derivatives(z, discriminator)\n",
    "        self.weights -= learning_rate * ders[0]\n",
    "        self.biases -= learning_rate * ders[1]"
   ]
  },
  {
   "cell_type": "code",
   "execution_count": 61,
   "metadata": {},
   "outputs": [],
   "source": [
    "# Hyperparameter Initialisation\n",
    "epochs = 1000\n",
    "learning_rate = 0.01\n",
    "\n",
    "# An array of 'faces' i.e. those that constitute a 'true'\n",
    "# face.\n",
    "faces = [np.array([1,0,0,1]),\n",
    "         np.array([0.9,0.1,0.2,0.8]),\n",
    "         np.array([0.9,0.2,0.1,0.8]),\n",
    "         np.array([0.8,0.1,0.2,0.9]),\n",
    "         np.array([0.8,0.2,0.1,0.9])]\n",
    "\n",
    "# Instantiate both networks\n",
    "G = Generator()\n",
    "D = Discriminator()\n",
    "\n",
    "for epoch in range(epochs):\n",
    "    \n",
    "    # We pass a 'noise' image to the discriminator which is generated by the\n",
    "    # generator, followed by a 'real face' and we do this for all 'real' faces\n",
    "    # each epoch.\n",
    "    \n",
    "    for face in faces:\n",
    "    \n",
    "        # Pick a random number to generate a fake face\n",
    "        z = random.rand()\n",
    "\n",
    "        # Generate a fake face\n",
    "        noise = G.forward(z)\n",
    "        \n",
    "        # Update the discriminator weights from the fake face\n",
    "        D.noise_update(noise)\n",
    "    \n",
    "        # Update the generator weights from the fake face\n",
    "        G.update(z, D)\n",
    "        \n",
    "        # Update the discriminator weights from the real face\n",
    "        D.image_update(face)"
   ]
  },
  {
   "cell_type": "markdown",
   "metadata": {},
   "source": [
    "<h2>'Faces' Created by our trained Generator:</h2>"
   ]
  },
  {
   "cell_type": "code",
   "execution_count": 62,
   "metadata": {},
   "outputs": [
    {
     "name": "stdout",
     "output_type": "stream",
     "text": [
      "[0.87130456 0.04903192 0.09053415 0.93312271]\n",
      "[0.96243707 0.01905462 0.0617396  0.96620246]\n",
      "[0.93691385 0.02816259 0.07232776 0.95517193]\n",
      "[0.96774169 0.0170082  0.05895782 0.96887126]\n"
     ]
    },
    {
     "data": {
      "image/png": "[encoded data removed]",
      "text/plain": [
       "<Figure size 720x720 with 4 Axes>"
      ]
     },
     "metadata": {
      "needs_background": "light"
     },
     "output_type": "display_data"
    }
   ],
   "source": [
    "generated_images = []\n",
    "for i in range(4):\n",
    "    z = random.random()\n",
    "    generated_image = G.forward(z)\n",
    "    generated_images.append(generated_image)\n",
    "_ = view_samples(generated_images, 1, 4)\n",
    "for i in generated_images:\n",
    "    print(i)"
   ]
  },
  {
   "cell_type": "markdown",
   "metadata": {},
   "source": [
    "<h1>Acknolwedgements</h1>\n",
    "\n",
    "*Implementation based on the fantastic work of Luis Guiserrano:* https://github.com/luisguiserrano/gans"
   ]
  }
 ],
 "metadata": {
  "kernelspec": {
   "display_name": "AI-venv",
   "language": "python",
   "name": "ai-venv"
  },
  "language_info": {
   "codemirror_mode": {
    "name": "ipython",
    "version": 3
   },
   "file_extension": ".py",
   "mimetype": "text/x-python",
   "name": "python",
   "nbconvert_exporter": "python",
   "pygments_lexer": "ipython3",
   "version": "3.7.4"
  }
 },
 "nbformat": 4,
 "nbformat_minor": 4
}
